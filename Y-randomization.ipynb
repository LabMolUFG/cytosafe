{
 "cells": [
  {
   "cell_type": "code",
   "execution_count": 4,
   "metadata": {},
   "outputs": [],
   "source": [
    "import numpy as np\n",
    "import pandas as pd\n",
    "import joblib\n",
    "import json\n",
    "\n",
    "#Savepath\n",
    "save_path = r\"...\"\n",
    "\n",
    "# Load the model\n",
    "model_base = joblib.load(r\"...\")\n",
    "\n",
    "# Load the external data\n",
    "with open(r\"...\", 'r') as f:\n",
    "    x_test = json.load(f)\n",
    "\n",
    "with open(r\"...\", 'r') as f:\n",
    "    y_test = json.load(f)\n",
    "\n",
    "# Load the internal data\n",
    "with open(r\"...\", 'r') as f:\n",
    "    x_train = json.load(f)\n",
    "\n",
    "with open(r\"...\", 'r') as f:\n",
    "    y_train = json.load(f)\n",
    "\n"
   ]
  },
  {
   "cell_type": "code",
   "execution_count": null,
   "metadata": {},
   "outputs": [],
   "source": [
    "from sklearn.metrics import balanced_accuracy_score, matthews_corrcoef, f1_score\n",
    "import lightgbm as lgb\n",
    "import pandas as pd\n",
    "import numpy as np\n",
    "\n",
    "params = model_base.get_params()\n",
    "\n",
    "# Definir o número de rounds de y-randomization\n",
    "n_rounds = 50\n",
    "\n",
    "# Inicializar dataframe para armazenar os resultados\n",
    "resultados = pd.DataFrame(columns=['Round', 'Balanced Accuracy', 'MCC', 'F1 Score'])\n",
    "\n",
    "# Realizar os rounds de y-randomization\n",
    "for i in range(n_rounds):\n",
    "    # Embaralhar as variáveis dependentes no dataset de treino e ajustar o modelo\n",
    "    y_teste_random = np.random.permutation(y_train)\n",
    "\n",
    "    model_y = lgb.LGBMClassifier(**params)\n",
    "    model_y.fit(x_train, y_teste_random)\n",
    "\n",
    "    y_pred = model_y.predict(x_test)\n",
    "\n",
    "    # Calcular as métricas de desempenho\n",
    "    balanced_accuracy = balanced_accuracy_score(y_test, y_pred)\n",
    "    mcc = matthews_corrcoef(y_test, y_pred)\n",
    "    f1 = f1_score(y_test, y_pred, average='weighted')\n",
    "\n",
    "    # Apender os resultados ao dataframe\n",
    "    resultados.loc[i] = [i+1, balanced_accuracy, mcc, f1]\n",
    "\n",
    "# Exibir o dataframe com os resultados\n",
    "resultados.to_excel(save_path, index=False)\n",
    "print(resultados)"
   ]
  }
 ],
 "metadata": {
  "kernelspec": {
   "display_name": "rods_env_1",
   "language": "python",
   "name": "python3"
  },
  "language_info": {
   "codemirror_mode": {
    "name": "ipython",
    "version": 3
   },
   "file_extension": ".py",
   "mimetype": "text/x-python",
   "name": "python",
   "nbconvert_exporter": "python",
   "pygments_lexer": "ipython3",
   "version": "3.12.4"
  }
 },
 "nbformat": 4,
 "nbformat_minor": 2
}
