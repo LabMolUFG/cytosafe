{
 "cells": [
  {
   "cell_type": "code",
   "execution_count": 14,
   "metadata": {},
   "outputs": [],
   "source": [
    "import numpy as np\n",
    "import pandas as pd\n",
    "from rdkit import Chem\n",
    "from rdkit.Chem import AllChem\n",
    "from sklearn.manifold import TSNE\n",
    "import seaborn as sns\n",
    "import matplotlib.pyplot as plt\n",
    "\n",
    "# Carregar o DataFrame\n",
    "df = pd.read_csv(r\"C:\\Users\\franc\\OneDrive\\Documentos\\LabMol\\IC-Skin\\DADOS\\GHS\\curated_binary_GHS.csv\")  # Substitua 'seu_arquivo.csv' pelo caminho do seu arquivo\n",
    "\n",
    "df['mol'] = [Chem.MolFromSmiles(x) for x in df['SMILES']]\n",
    "fps = np.array([AllChem.GetMorganFingerprintAsBitVect(x, radius = 2, nBits = 2048, useFeatures=False) for x in df['mol']])"
   ]
  },
  {
   "cell_type": "code",
   "execution_count": 15,
   "metadata": {},
   "outputs": [],
   "source": [
    "# Calcular as coordenadas 2D usando t-SNE\n",
    "tsne = TSNE(n_components=2, random_state=42)\n",
    "tsne_results = tsne.fit_transform(fps)\n",
    "\n",
    "# Adicionar as coordenadas ao DataFrame\n",
    "df['tsne-2d-x'] = tsne_results[:,0]\n",
    "df['tsne-2d-y'] = tsne_results[:,1]\n"
   ]
  },
  {
   "cell_type": "code",
   "execution_count": null,
   "metadata": {},
   "outputs": [],
   "source": [
    "# Plotar o resultado\n",
    "plt.figure(figsize=(16, 10), dpi=500)\n",
    "sns.scatterplot(\n",
    "    x='tsne-2d-x', y='tsne-2d-y',\n",
    "    hue='Outcome',\n",
    "    palette=sns.color_palette(\"hsv\", df['Outcome'].nunique()),\n",
    "    data=df,\n",
    "    legend=\"full\",\n",
    "    alpha=0.8,\n",
    "    s = 100\n",
    ")\n",
    "plt.show()"
   ]
  }
 ],
 "metadata": {
  "kernelspec": {
   "display_name": "ia_env",
   "language": "python",
   "name": "python3"
  },
  "language_info": {
   "codemirror_mode": {
    "name": "ipython",
    "version": 3
   },
   "file_extension": ".py",
   "mimetype": "text/x-python",
   "name": "python",
   "nbconvert_exporter": "python",
   "pygments_lexer": "ipython3",
   "version": "3.10.6"
  }
 },
 "nbformat": 4,
 "nbformat_minor": 2
}
